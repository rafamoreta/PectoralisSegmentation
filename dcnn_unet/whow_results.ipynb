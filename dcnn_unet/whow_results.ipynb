{
 "cells": [
  {
   "cell_type": "code",
   "execution_count": 9,
   "metadata": {
    "collapsed": true
   },
   "outputs": [],
   "source": [
    "import numpy as np\n",
    "import matplotlib.pyplot as plt\n",
    "import SimpleITK as sitk\n",
    "%matplotlib inline\n",
    "from image_reader_writer import ImageReaderWriter "
   ]
  },
  {
   "cell_type": "code",
   "execution_count": 21,
   "metadata": {
    "collapsed": true
   },
   "outputs": [],
   "source": [
    "output_path = '/home/rmoreta/Projects/PectoralisSegmentation/Results/output.nrrd'\n",
    "CT_path = '/home/rmoreta/Projects/PectoralisSegmentation/Data/output.nrrd'\n",
    "image_nrrd = sitk.ReadImage(output_path)\n",
    "image = sitk.GetArrayFromImage(image_nrrd)"
   ]
  },
  {
   "cell_type": "code",
   "execution_count": 10,
   "metadata": {
    "collapsed": false
   },
   "outputs": [],
   "source": [
    "irw = ImageReaderWriter()"
   ]
  },
  {
   "cell_type": "code",
   "execution_count": 15,
   "metadata": {
    "collapsed": true
   },
   "outputs": [],
   "source": [
    "image_2,metainfo = irw.read_in_numpy('/home/rmoreta/Projects/PectoralisSegmentation/Data/ProjectData_clean/Cont_1_clean.nrrd')"
   ]
  },
  {
   "cell_type": "code",
   "execution_count": 18,
   "metadata": {
    "collapsed": false
   },
   "outputs": [],
   "source": [
    "image_2 = image_2.transpose([2,1,0])"
   ]
  },
  {
   "cell_type": "code",
   "execution_count": 4,
   "metadata": {
    "collapsed": false
   },
   "outputs": [
    {
     "data": {
      "text/plain": [
       "array([     0.,  13335.,  13336.,  13591.,  13592.,  17943.,  17944.])"
      ]
     },
     "execution_count": 4,
     "metadata": {},
     "output_type": "execute_result"
    }
   ],
   "source": [
    "np.unique(image)"
   ]
  },
  {
   "cell_type": "code",
   "execution_count": 6,
   "metadata": {
    "collapsed": false
   },
   "outputs": [
    {
     "data": {
      "text/plain": [
       "(array([1, 1, 1, 1, 1, 1, 1, 1, 1, 1, 1, 1, 1, 1, 1, 1, 1, 1, 1, 1, 1, 1, 1,\n",
       "        1, 1, 1, 1, 1, 1, 1, 1, 1, 1, 1, 1, 1, 1, 1, 1, 1, 1, 1, 1, 1, 1, 1,\n",
       "        1, 1, 1, 1, 1, 1, 1, 1, 1, 1, 1, 1, 1, 1, 1, 1, 1, 1, 1, 1, 1, 1, 1,\n",
       "        1, 1, 1, 1, 1, 1, 1, 1, 1, 1, 1, 1, 1, 1, 1, 1, 1, 1, 1, 1, 1, 1, 1,\n",
       "        1, 1, 1, 1, 1, 1, 1, 1, 1, 1, 1, 1, 1, 1, 1, 1, 1, 1, 1, 1, 1, 1, 1,\n",
       "        1, 1, 1, 1, 1, 1, 1, 1, 1, 1, 1, 1, 1, 1, 1, 1, 1, 1, 1, 1, 1, 1, 1,\n",
       "        1, 1, 1, 1, 1, 1, 1, 1, 1, 1, 1, 1, 1, 1, 1, 1, 1, 1, 1, 1, 1, 1, 1,\n",
       "        1, 1, 1, 1, 1, 1, 1, 1, 1, 1, 1, 1, 1, 1, 1, 1, 1, 1, 1, 1, 1, 1, 1,\n",
       "        1, 1, 1, 1, 1, 1, 1, 1, 1, 1, 1, 1, 1, 1, 1, 1, 1, 1, 1, 1, 1, 1, 1,\n",
       "        1, 1, 1, 1, 1, 1, 1, 1, 1, 1, 1, 1, 1, 1, 1, 1, 1, 1, 1, 1, 1, 1, 1,\n",
       "        1, 1, 1, 1, 1, 1, 1, 1, 1, 1, 1, 1, 1, 1, 1, 1, 1, 1, 1, 1, 1, 1, 1,\n",
       "        1, 1, 1, 1, 1, 1, 1, 1, 1, 1, 1, 1, 1, 1, 1, 1, 1, 1, 1, 1, 1, 1, 1,\n",
       "        1, 1, 1, 1, 1, 1, 1, 1, 1, 1, 1, 1, 1, 1, 1, 1, 1, 1, 1, 1, 1, 1, 1,\n",
       "        1, 1, 1, 1, 1, 1, 1, 1, 1, 1, 1, 1]),\n",
       " array([345, 346, 346, 347, 347, 355, 355, 355, 356, 356, 356, 356, 356,\n",
       "        356, 356, 356, 357, 357, 357, 357, 357, 357, 357, 357, 357, 357,\n",
       "        358, 358, 358, 358, 358, 358, 358, 358, 358, 358, 358, 358, 359,\n",
       "        359, 359, 359, 359, 359, 359, 359, 359, 359, 359, 359, 359, 359,\n",
       "        360, 360, 360, 360, 360, 360, 360, 360, 360, 360, 360, 360, 360,\n",
       "        361, 361, 361, 361, 361, 361, 361, 361, 361, 361, 361, 361, 361,\n",
       "        361, 362, 362, 362, 362, 362, 362, 362, 362, 362, 362, 362, 362,\n",
       "        362, 362, 363, 363, 363, 363, 363, 363, 363, 363, 363, 363, 363,\n",
       "        363, 363, 364, 364, 364, 364, 364, 364, 364, 364, 364, 364, 364,\n",
       "        364, 364, 364, 365, 365, 365, 365, 365, 365, 365, 365, 365, 365,\n",
       "        365, 365, 365, 365, 366, 366, 366, 366, 366, 366, 366, 366, 366,\n",
       "        366, 366, 366, 366, 366, 366, 367, 367, 367, 367, 367, 367, 367,\n",
       "        367, 367, 367, 367, 367, 367, 367, 368, 368, 368, 368, 368, 368,\n",
       "        368, 368, 368, 368, 368, 368, 368, 368, 369, 369, 369, 369, 369,\n",
       "        369, 369, 369, 369, 369, 369, 369, 369, 370, 370, 370, 370, 370,\n",
       "        370, 370, 370, 370, 370, 370, 370, 371, 371, 371, 371, 371, 371,\n",
       "        371, 371, 371, 371, 371, 372, 372, 372, 372, 372, 372, 372, 372,\n",
       "        372, 372, 373, 373, 373, 373, 373, 373, 373, 373, 373, 373, 374,\n",
       "        374, 374, 374, 374, 374, 374, 374, 374, 374, 375, 375, 375, 375,\n",
       "        375, 375, 375, 375, 375, 376, 376, 376, 376, 376, 376, 376, 377,\n",
       "        377, 377, 377, 377, 377, 377, 378, 378, 378, 378, 378, 378, 379,\n",
       "        379, 379, 379, 379, 379, 379, 380, 380, 380, 380, 380, 380, 380,\n",
       "        380, 381, 381, 381, 381, 381, 381, 381, 381, 382, 382, 382, 382,\n",
       "        382, 382, 382, 383, 383, 383, 383, 383, 383, 384, 384, 384]),\n",
       " array([164, 164, 165, 164, 165, 171, 172, 173, 171, 172, 173, 174, 175,\n",
       "        176, 177, 178, 171, 172, 173, 174, 175, 176, 177, 178, 179, 180,\n",
       "        171, 172, 173, 174, 175, 176, 177, 178, 179, 180, 181, 182, 171,\n",
       "        172, 173, 174, 175, 176, 177, 178, 179, 180, 181, 182, 183, 184,\n",
       "        172, 173, 174, 175, 176, 177, 178, 179, 180, 181, 182, 183, 184,\n",
       "        172, 173, 174, 175, 176, 177, 178, 179, 180, 181, 182, 183, 184,\n",
       "        185, 173, 174, 175, 176, 177, 178, 179, 180, 181, 182, 183, 184,\n",
       "        185, 186, 176, 177, 178, 179, 180, 181, 182, 183, 184, 185, 186,\n",
       "        187, 188, 177, 178, 179, 180, 181, 182, 183, 184, 185, 186, 187,\n",
       "        188, 189, 190, 178, 179, 180, 181, 182, 183, 184, 185, 186, 187,\n",
       "        188, 189, 190, 191, 179, 180, 181, 182, 183, 184, 185, 186, 187,\n",
       "        188, 189, 190, 191, 192, 193, 180, 181, 182, 183, 184, 185, 186,\n",
       "        187, 188, 189, 190, 191, 192, 193, 181, 182, 183, 184, 185, 186,\n",
       "        187, 188, 189, 190, 191, 192, 193, 194, 182, 183, 184, 185, 186,\n",
       "        187, 188, 189, 190, 191, 192, 193, 194, 184, 185, 186, 187, 188,\n",
       "        189, 190, 191, 192, 193, 194, 195, 185, 186, 187, 188, 189, 190,\n",
       "        191, 192, 193, 194, 195, 186, 187, 188, 189, 190, 191, 192, 193,\n",
       "        194, 195, 187, 188, 189, 190, 191, 192, 193, 194, 195, 196, 188,\n",
       "        189, 190, 191, 192, 193, 194, 195, 196, 197, 189, 190, 191, 192,\n",
       "        193, 194, 195, 196, 197, 191, 192, 193, 194, 195, 196, 197, 192,\n",
       "        193, 194, 195, 196, 197, 198, 193, 194, 195, 196, 197, 198, 193,\n",
       "        194, 195, 196, 197, 198, 199, 194, 195, 196, 197, 198, 199, 200,\n",
       "        201, 194, 195, 196, 197, 198, 199, 200, 201, 195, 196, 197, 198,\n",
       "        199, 200, 201, 196, 197, 198, 199, 200, 201, 199, 200, 201]))"
      ]
     },
     "execution_count": 6,
     "metadata": {},
     "output_type": "execute_result"
    }
   ],
   "source": [
    "np.where(image==13335)"
   ]
  },
  {
   "cell_type": "code",
   "execution_count": 22,
   "metadata": {
    "collapsed": false
   },
   "outputs": [
    {
     "data": {
      "image/png": "[encoded data removed]",
      "text/plain": [
       "<matplotlib.figure.Figure at 0x7f02559e6290>"
      ]
     },
     "metadata": {},
     "output_type": "display_data"
    }
   ],
   "source": [
    "plt.figure()\n",
    "plt.imshow(image[1])\n",
    "plt.colorbar()\n",
    "plt.show()"
   ]
  },
  {
   "cell_type": "markdown",
   "metadata": {},
   "source": [
    "----------------------"
   ]
  },
  {
   "cell_type": "code",
   "execution_count": 69,
   "metadata": {
    "collapsed": false
   },
   "outputs": [
    {
     "data": {
      "image/png": "[encoded data removed]",
      "text/plain": [
       "<matplotlib.figure.Figure at 0x7f18862a41d0>"
      ]
     },
     "metadata": {},
     "output_type": "display_data"
    }
   ],
   "source": [
    "plt.figure()\n",
    "plt.imshow(image[0,:,:,1])\n",
    "plt.colorbar()\n",
    "plt.show()"
   ]
  },
  {
   "cell_type": "code",
   "execution_count": 77,
   "metadata": {
    "collapsed": false
   },
   "outputs": [],
   "source": [
    "condition = image[0,:,:,1:5]==1\n",
    "where_ones = np.where(condition)\n",
    "where_ones = np.array(where_ones)\n",
    "y_axis_min = where_ones[1].min()\n",
    "y_axis_max = where_ones[1].max()"
   ]
  },
  {
   "cell_type": "code",
   "execution_count": 96,
   "metadata": {
    "collapsed": false
   },
   "outputs": [],
   "source": [
    "y_range = range(y_axis_min, y_axis_max)\n",
    "x_axis_max = list()\n",
    "\n",
    "for i in y_range:\n",
    "    condition = image[0,:,i,1:5]==1\n",
    "    where_ones = np.where(condition)\n",
    "    where_ones = np.array(where_ones)\n",
    "    if condition.sum() == 0:\n",
    "        x_axis_max.append(x_axis_max[-2])\n",
    "    else:\n",
    "        x_axis_max.append(where_ones[0].max())"
   ]
  },
  {
   "cell_type": "code",
   "execution_count": 97,
   "metadata": {
    "collapsed": true
   },
   "outputs": [],
   "source": [
    "y_way = range(y_axis_min) + range(y_axis_max,512)"
   ]
  },
  {
   "cell_type": "code",
   "execution_count": 110,
   "metadata": {
    "collapsed": false
   },
   "outputs": [],
   "source": [
    "index_to0_fat_y = np.ix_(range(512),y_way)\n"
   ]
  },
  {
   "cell_type": "code",
   "execution_count": 129,
   "metadata": {
    "collapsed": false
   },
   "outputs": [
    {
     "data": {
      "text/plain": [
       "<matplotlib.image.AxesImage at 0x7f18857a6c10>"
      ]
     },
     "execution_count": 129,
     "metadata": {},
     "output_type": "execute_result"
    },
    {
     "data": {
      "image/png": "[encoded data removed]",
      "text/plain": [
       "<matplotlib.figure.Figure at 0x7f188581b490>"
      ]
     },
     "metadata": {},
     "output_type": "display_data"
    }
   ],
   "source": [
    "image_0 = np.zeros((512,512))\n",
    "for i,val in enumerate(x_axis_max):\n",
    "    index_to0_fat_x = np.ix_(range(val,512),[y_range[i]])\n",
    "    image_0[index_to0_fat_x] = 1\n",
    "image_0[index_to0_fat_y] = 1\n",
    "plt.figure(figsize = (7,7))\n",
    "plt.imshow(image_0)"
   ]
  },
  {
   "cell_type": "code",
   "execution_count": null,
   "metadata": {
    "collapsed": true
   },
   "outputs": [],
   "source": []
  }
 ],
 "metadata": {
  "kernelspec": {
   "display_name": "Python 2",
   "language": "python",
   "name": "python2"
  },
  "language_info": {
   "codemirror_mode": {
    "name": "ipython",
    "version": 2
   },
   "file_extension": ".py",
   "mimetype": "text/x-python",
   "name": "python",
   "nbconvert_exporter": "python",
   "pygments_lexer": "ipython2",
   "version": "2.7.13"
  }
 },
 "nbformat": 4,
 "nbformat_minor": 2
}
