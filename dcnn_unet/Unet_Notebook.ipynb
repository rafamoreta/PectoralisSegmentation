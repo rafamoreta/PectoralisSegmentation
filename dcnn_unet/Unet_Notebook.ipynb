{
 "cells": [
  {
   "cell_type": "markdown",
   "metadata": {},
   "source": [
    "# UNET"
   ]
  },
  {
   "cell_type": "markdown",
   "metadata": {},
   "source": [
    "-----------"
   ]
  },
  {
   "cell_type": "code",
   "execution_count": 1,
   "metadata": {
    "collapsed": false
   },
   "outputs": [],
   "source": [
    "import numpy as np\n",
    "import matplotlib.pyplot as plt\n",
    "import SimpleITK as sitk\n",
    "import scipy.misc\n",
    "%matplotlib inline"
   ]
  },
  {
   "cell_type": "code",
   "execution_count": 2,
   "metadata": {
    "collapsed": false
   },
   "outputs": [
    {
     "name": "stderr",
     "output_type": "stream",
     "text": [
      "Using TensorFlow backend.\n"
     ]
    }
   ],
   "source": [
    "from keras.models import Model\n",
    "from keras.layers import Input, merge, Convolution2D, MaxPooling2D, UpSampling2D, Dropout, Activation, Flatten\n",
    "from keras.optimizers import Adam, SGD\n",
    "from keras.metrics import binary_crossentropy, mean_absolute_error, fbeta_score\n",
    "from keras.callbacks import ModelCheckpoint, LearningRateScheduler, CSVLogger, BaseLogger, Callback, EarlyStopping, TensorBoard, LambdaCallback, ReduceLROnPlateau\n",
    "from keras import backend as K"
   ]
  },
  {
   "cell_type": "code",
   "execution_count": 3,
   "metadata": {
    "collapsed": false
   },
   "outputs": [],
   "source": [
    "from data_management import DataManagement\n",
    "from unet_network import ArchitectureParameters, TrainingParameters, UNETNetwork\n",
    "from engine import Engine"
   ]
  },
  {
   "cell_type": "markdown",
   "metadata": {},
   "source": [
    "-----------"
   ]
  },
  {
   "cell_type": "markdown",
   "metadata": {},
   "source": [
    "## Training"
   ]
  },
  {
   "cell_type": "markdown",
   "metadata": {},
   "source": [
    "### *Architecture Parameters*"
   ]
  },
  {
   "cell_type": "markdown",
   "metadata": {},
   "source": [
    "    13335 Left Minor Pectoral\n",
    "    13336 Right Minor Pectoral\n",
    "    13591 Left Major Pectoral\n",
    "    13592 Right Major Pectoral\n",
    "    17943 Left Fat\n",
    "    17944 Right Fat\n",
    "    \n",
    "    [13335, 13336, 13591, 13592, 17943, 17944]\n"
   ]
  },
  {
   "cell_type": "code",
   "execution_count": null,
   "metadata": {
    "collapsed": false
   },
   "outputs": [],
   "source": [
    "num_classes = 3 # length(class_code)+1 (Taking into account background)\n",
    "class_code = [13335, 13336]\n",
    "image_width = 512\n",
    "image_height = 512\n",
    "num_channels = 1\n",
    "\n",
    "architecture_params_train = ArchitectureParameters(num_classes=num_classes, \n",
    "                                                   image_width=image_width, \n",
    "                                                   image_height=image_height, \n",
    "                                                   num_channels=num_channels,\n",
    "                                                   class_code=class_code)"
   ]
  },
  {
   "cell_type": "markdown",
   "metadata": {},
   "source": [
    "*Training Parameters*"
   ]
  },
  {
   "cell_type": "code",
   "execution_count": null,
   "metadata": {
    "collapsed": true
   },
   "outputs": [],
   "source": [
    "train_params = TrainingParameters()\n",
    "\n",
    "train_params.num_epochs = 1\n",
    "train_params.training_batch_size = 10\n",
    "train_params.training_decay_rate = 0.99  # Needed for learning rate decrease\n",
    "train_params.verbose = 1"
   ]
  },
  {
   "cell_type": "markdown",
   "metadata": {},
   "source": [
    "### *Reading Data*"
   ]
  },
  {
   "cell_type": "code",
   "execution_count": null,
   "metadata": {
    "collapsed": true
   },
   "outputs": [],
   "source": [
    "image_path = '/Users/acil-user/Documents/1 - Rafael Moreta/ProyectBWH/ProjectData_clean/Cont_1_clean.nrrd'\n",
    "label_path = '/Users/acil-user/Documents/1 - Rafael Moreta/ProyectBWH/ProjectData_clean/Cont_lm_1_clean.nrrd'"
   ]
  },
  {
   "cell_type": "code",
   "execution_count": null,
   "metadata": {
    "collapsed": false
   },
   "outputs": [],
   "source": [
    "data_management_train = DataManagement(architecture_params_train)\n",
    "images = data_management_train.get_images_from_nrrd(image_path)\n",
    "labels = data_management_train.get_labels_from_nrrd(label_path)\n",
    "\n",
    "print('CTSlices Shape: ', images.shape)\n",
    "print('Labels Shape: ', labels.shape)"
   ]
  },
  {
   "cell_type": "code",
   "execution_count": null,
   "metadata": {
    "collapsed": false
   },
   "outputs": [],
   "source": [
    "num_images_train = 10 #int(round(images.shape[0]*0.1))\n",
    "num_images_test = 1 #int(round(images.shape[0]*0.2))\n",
    "\n",
    "train_images = images[0:num_images_train, 0:image_height, :, :]\n",
    "train_labels = labels[0:num_images_train, 0:image_height, :, :]\n",
    "test_images = images[num_images_train:num_images_train+num_images_test, 0:image_height, :, :]\n",
    "test_labels = labels[num_images_train:num_images_train+num_images_test, 0:image_height, :, :]\n",
    "\n",
    "print('train_images shape: ', train_images.shape)\n",
    "print('train_labels shape: ', train_labels.shape)\n",
    "print('test_images shape: ', test_images.shape)\n",
    "print('test_labels shape: ', test_labels.shape)"
   ]
  },
  {
   "cell_type": "markdown",
   "metadata": {},
   "source": [
    "*Show Images and Labels*"
   ]
  },
  {
   "cell_type": "code",
   "execution_count": null,
   "metadata": {
    "collapsed": false
   },
   "outputs": [],
   "source": [
    "slice_num = 105\n",
    "channel_num = 0\n",
    "\n",
    "plt.figure()\n",
    "plt.imshow(images[slice_num,:,:,channel_num],cmap='Greys_r')\n",
    "plt.colorbar()\n",
    "plt.show()\n",
    "\n",
    "f, a = plt.subplots(1, num_classes, figsize=(20, 20))\n",
    "for i in range(num_classes):\n",
    "    a[i].imshow(labels[slice_num,:,:,i],cmap='Greys_r')\n",
    "f.show()\n",
    "plt.draw()"
   ]
  },
  {
   "cell_type": "markdown",
   "metadata": {
    "collapsed": true
   },
   "source": [
    "### *Main*"
   ]
  },
  {
   "cell_type": "code",
   "execution_count": null,
   "metadata": {
    "collapsed": true
   },
   "outputs": [],
   "source": [
    "output_path = '/Users/acil-user/Documents/1 - Rafael Moreta/ProyectBWH/Results/'"
   ]
  },
  {
   "cell_type": "markdown",
   "metadata": {},
   "source": [
    "**Train**"
   ]
  },
  {
   "cell_type": "markdown",
   "metadata": {},
   "source": [
    "*Training Parameters*"
   ]
  },
  {
   "cell_type": "code",
   "execution_count": null,
   "metadata": {
    "collapsed": false
   },
   "outputs": [],
   "source": [
    "# Creating Netwrok\n",
    "unet_network = UNETNetwork(architecture_params_train)\n",
    "\n",
    "# Creating Engine\n",
    "unet_engine = Engine(output_path, unet_network)\n",
    "\n",
    "#train_params.num_epochs = 1\n",
    "training_history, history, model, json_string = unet_engine.fit(train_images, train_labels, train_params)"
   ]
  },
  {
   "cell_type": "markdown",
   "metadata": {},
   "source": [
    "**Test**"
   ]
  },
  {
   "cell_type": "code",
   "execution_count": null,
   "metadata": {
    "collapsed": false
   },
   "outputs": [],
   "source": [
    "pred_images = unet_engine.predict(test_images, model=model)"
   ]
  },
  {
   "cell_type": "markdown",
   "metadata": {},
   "source": [
    "-----------"
   ]
  },
  {
   "cell_type": "markdown",
   "metadata": {},
   "source": [
    "-----------"
   ]
  },
  {
   "cell_type": "markdown",
   "metadata": {},
   "source": [
    "## Testing Predifined Models"
   ]
  },
  {
   "cell_type": "markdown",
   "metadata": {},
   "source": [
    "### *Architecture Parameters*"
   ]
  },
  {
   "cell_type": "code",
   "execution_count": null,
   "metadata": {
    "collapsed": false
   },
   "outputs": [],
   "source": [
    "selection = 2\n",
    "\n",
    "if selection == 1:\n",
    "    num_classes = 2 # length(class_code)+1 (Taking into account background)\n",
    "    class_code = [13335, 13336, 13591, 13592]\n",
    "    image_width = 512\n",
    "    image_height = 512\n",
    "    num_channels = 1\n",
    "    model_path = '/Users/acil-user/Projects/unet_models/pectoralis_segmentation_nc2/unet_nc2.hdf5'\n",
    "    \n",
    "elif selection == 2:\n",
    "    num_classes = 5 # length(class_code)+1 (Taking into account background)\n",
    "    class_code = [13335, 13336, 13591, 13592]\n",
    "    image_width = 512\n",
    "    image_height = 512\n",
    "    num_channels = 1\n",
    "    #model_path = '/Users/acil-user/Projects/unet_models/pectoralis_segmentation_nc5/unet_multiclass_nc5.hdf5'\n",
    "    model_path = '/home/rmoreta/Projects/PectoralisSegmentation/Results/unet_GPU_multiclass_nc5_1400im_24ep_lr001_final.hdf5'\n",
    "\n",
    "elif selection == 3:\n",
    "    num_classes = 3 # length(class_code)+1 (Taking into account background)\n",
    "    class_code = [17943, 17944]\n",
    "    image_width = 512\n",
    "    image_height = 512\n",
    "    num_channels = 1\n",
    "    model_path = '/home/rmoreta/Projects/PectoralisSegmentation/Results/unet_GPU_multiclass_fat_2_final.hdf5'\n",
    "\n",
    "elif selection == 4:\n",
    "    num_classes = 7 # length(class_code)+1 (Taking into account background)\n",
    "    class_code = [13335, 13336, 13591, 13592, 17943, 17944]\n",
    "    image_width = 512\n",
    "    image_height = 512\n",
    "    num_channels = 1\n",
    "    model_path = '/home/rmoreta/Projects/PectoralisSegmentation/Results/unet_GPU_multiclass_nc5_1400im_24ep_lr001_final.hdf5'\n",
    "    model_path2 = '/home/rmoreta/Projects/PectoralisSegmentation/Results/unet_GPU_multiclass_fat_2_final.hdf5'\n",
    "    model_path.append(model_path2)\n",
    "\n",
    "architecture_params = ArchitectureParameters(num_classes=num_classes, \n",
    "                                            image_width=image_width, \n",
    "                                            image_height=image_height, \n",
    "                                            num_channels=num_channels,\n",
    "                                            class_code=class_code)"
   ]
  },
  {
   "cell_type": "markdown",
   "metadata": {},
   "source": [
    "### *Reading Images*"
   ]
  },
  {
   "cell_type": "code",
   "execution_count": null,
   "metadata": {
    "collapsed": true
   },
   "outputs": [],
   "source": [
    "image_path = '/home/rmoreta/Projects/PectoralisSegmentation/Data/ProjectData_clean/Cont_1_clean.nrrd'\n",
    "label_path = '/home/rmoreta/Projects/PectoralisSegmentation/Data/ProjectData_clean/Cont_lm_1_clean.nrrd'"
   ]
  },
  {
   "cell_type": "code",
   "execution_count": null,
   "metadata": {
    "collapsed": false
   },
   "outputs": [],
   "source": [
    "data_management = DataManagement(architecture_params)\n",
    "images = data_management.get_images_from_nrrd(image_path)\n",
    "labels = data_management.get_labels_from_nrrd(label_path)\n",
    "\n",
    "print('CTSlices Shape: ', images.shape)\n",
    "print('Labels Shape: ', labels.shape)"
   ]
  },
  {
   "cell_type": "code",
   "execution_count": null,
   "metadata": {
    "collapsed": false
   },
   "outputs": [],
   "source": [
    "num_images = 2 #int(round(images.shape[0]*0.2))\n",
    "\n",
    "test_images = images[0:num_images, :, :, :]\n",
    "test_labels = labels[0:num_images, :, :, :]\n",
    "\n",
    "print('test_images shape: ', test_images.shape)\n",
    "print('test_labels shape: ', test_labels.shape)"
   ]
  },
  {
   "cell_type": "markdown",
   "metadata": {},
   "source": [
    "*Show Images and Labels*"
   ]
  },
  {
   "cell_type": "code",
   "execution_count": null,
   "metadata": {
    "collapsed": false
   },
   "outputs": [],
   "source": [
    "slice_num = 2\n",
    "channel_num = 0\n",
    "\n",
    "plt.figure()\n",
    "plt.imshow(images[slice_num,:,:,channel_num],cmap='Greys_r')\n",
    "plt.colorbar()\n",
    "plt.show()\n",
    "\n",
    "f, a = plt.subplots(1, num_classes, figsize=(20, 20))\n",
    "for i in range(num_classes):\n",
    "    a[i].imshow(labels[slice_num,:,:,i],cmap='Greys_r')\n",
    "f.show()\n",
    "plt.draw()"
   ]
  },
  {
   "cell_type": "markdown",
   "metadata": {},
   "source": [
    "### *Main*"
   ]
  },
  {
   "cell_type": "code",
   "execution_count": null,
   "metadata": {
    "collapsed": true
   },
   "outputs": [],
   "source": [
    "output_path = '/home/rmoreta/Projects/PectoralisSegmentation/Results/'\n",
    "#model_path = '/home/rmoreta/Projects/PectoralisSegmentation/Results/unet_GPU_multiclass_nc5_1400im_24ep_lr001_final.hdf5'"
   ]
  },
  {
   "cell_type": "code",
   "execution_count": null,
   "metadata": {
    "collapsed": false
   },
   "outputs": [],
   "source": [
    "# Creating Netwrok\n",
    "unet_network = UNETNetwork(architecture_params)\n",
    "\n",
    "# Creating Engine\n",
    "unet_engine = Engine(unet_network, output_path)\n",
    "\n",
    "# Predict\n",
    "pred_labels = unet_engine.predict_pectoralis(selection, test_images, model_path=model_path)"
   ]
  },
  {
   "cell_type": "markdown",
   "metadata": {},
   "source": [
    "### *Saving Predictions*"
   ]
  },
  {
   "cell_type": "code",
   "execution_count": null,
   "metadata": {
    "collapsed": true
   },
   "outputs": [],
   "source": [
    "#data_management.save_labels_as_np(output_path, pred_labels)\n",
    "#data_management.save_labels_as_nrrd(output_path, pred_labels)"
   ]
  },
  {
   "cell_type": "code",
   "execution_count": null,
   "metadata": {
    "collapsed": false
   },
   "outputs": [],
   "source": [
    "sitk.WriteImage(sitk.GetImageFromArray(test_images), ('output.nrrd'))"
   ]
  },
  {
   "cell_type": "markdown",
   "metadata": {},
   "source": [
    "-----------"
   ]
  },
  {
   "cell_type": "markdown",
   "metadata": {},
   "source": [
    "## RESULTS"
   ]
  },
  {
   "cell_type": "markdown",
   "metadata": {},
   "source": [
    "### *Visualization*"
   ]
  },
  {
   "cell_type": "markdown",
   "metadata": {},
   "source": [
    "#### Each Class individual"
   ]
  },
  {
   "cell_type": "code",
   "execution_count": null,
   "metadata": {
    "collapsed": true
   },
   "outputs": [],
   "source": [
    "for i in range(3):\n",
    "    f, a = plt.subplots(1, 3, figsize=(20, 20))\n",
    "    f2, a2 = plt.subplots(1, 3, figsize=(20, 20))\n",
    "    a[1].imshow(imgs_mask_test[i,:,:,1], cmap='Greys_r')\n",
    "    a[2].imshow(imgs_mask_test[i,:,:,2], cmap='Greys_r')\n",
    "    a[0].imshow(imgs_test[i,:,:,0], cmap='Greys_r')\n",
    "    a2[0].imshow(pred_labels[i,:,:,0], cmap='Greys_r')\n",
    "    a2[1].imshow(pred_labels[i,:,:,1], cmap='Greys_r')\n",
    "    a2[2].imshow(pred_labels[i,:,:,2], cmap='Greys_r')\n",
    "    f.show()\n",
    "    f2.show()\n",
    "    plt.draw()"
   ]
  },
  {
   "cell_type": "markdown",
   "metadata": {},
   "source": [
    "#### Join all classes"
   ]
  },
  {
   "cell_type": "code",
   "execution_count": null,
   "metadata": {
    "collapsed": false
   },
   "outputs": [],
   "source": [
    "for i in [0,1]:\n",
    "    f, a = plt.subplots(1, num_classes, figsize=(20, 20))\n",
    "    f2, a2 = plt.subplots(1, num_classes, figsize=(20, 20))\n",
    "    a[1].imshow(test_labels[i,:,:,1], cmap='Greys_r')\n",
    "    a[2].imshow(test_labels[i,:,:,2], cmap='Greys_r')\n",
    "    a[0].imshow(test_images[i,:,:,0], cmap='Greys_r')\n",
    "    a[3].imshow(test_labels[i,:,:,3], cmap='Greys_r')\n",
    "    a[4].imshow(test_labels[i,:,:,4], cmap='Greys_r')\n",
    "    \n",
    "    a2[0].imshow(pred_labels[i,:,:,0], cmap='Greys_r')\n",
    "    a2[1].imshow(pred_labels[i,:,:,1], cmap='Greys_r')\n",
    "    a2[2].imshow(pred_labels[i,:,:,2], cmap='Greys_r')\n",
    "    a2[3].imshow(pred_labels[i,:,:,3], cmap='Greys_r')\n",
    "    a2[4].imshow(pred_labels[i,:,:,4], cmap='Greys_r')\n",
    "    f.show()\n",
    "    f2.show()\n",
    "    plt.draw()"
   ]
  },
  {
   "cell_type": "code",
   "execution_count": null,
   "metadata": {
    "collapsed": false
   },
   "outputs": [],
   "source": [
    "imgs_mask_pred_join = np.copy(pred_labels)\n",
    "imgs_mask_pred_join[:,:,:,2] = pred_labels[:,:,:,2]*2\n",
    "imgs_mask_pred_join[:,:,:,3] = pred_labels[:,:,:,3]*3\n",
    "imgs_mask_pred_join[:,:,:,4] = pred_labels[:,:,:,4]*4\n",
    "imgs_mask_pred_join = np.sum(pred_labels[:,:,:,1:num_classes], axis = 3)\n",
    "\n",
    "for i in [0]:\n",
    "    f, a = plt.subplots(1, 3, figsize=(20, 20))\n",
    "    a[1].imshow(imgs_mask_pred_join[i,:,:])\n",
    "    a[2].imshow(imgs_mask_pred_join[i,:,:])\n",
    "    a[0].imshow(test_images[i,:,:,0],cmap='Greys_r')\n",
    "    f.show()\n",
    "    plt.title(str(i))\n",
    "    plt.draw()\n",
    "    #plt.savefig('Figures/Multiclass/Best/all_subplot_{}.png'.format(i))\n",
    "    #scipy.misc.imsave('Figures/Multiclass/Best/all_mask_pred_{}.png'.format(i),imgs_mask_pred[i,:,:,0])\n",
    "    #scipy.misc.imsave('Figures/Multiclass/Best/all_test_{}.png'.format(i),imgs_mask_test[i,:,:,0])\n",
    "    #scipy.misc.imsave('Figures/Multiclass/Best/all_mask_test{}.png'.format(i),imgs_test[i,:,:,0])"
   ]
  },
  {
   "cell_type": "markdown",
   "metadata": {},
   "source": [
    "-----------"
   ]
  },
  {
   "cell_type": "markdown",
   "metadata": {},
   "source": [
    "### *Statistics*"
   ]
  },
  {
   "cell_type": "markdown",
   "metadata": {},
   "source": [
    "#### Over Each Image"
   ]
  },
  {
   "cell_type": "code",
   "execution_count": null,
   "metadata": {
    "collapsed": true
   },
   "outputs": [],
   "source": [
    "def accuracy_IoU_np_individual(y_true, y_pred):\n",
    "    axis = np.array((1,2))\n",
    "    tp = np.apply_over_axes(np.sum,(y_true * y_pred), axes=axis)\n",
    "    fn = np.apply_over_axes(np.sum,((y_true + y_pred)*y_true), axes=axis) - tp*2.\n",
    "    fp = np.apply_over_axes(np.sum,((y_true + y_pred)*y_pred), axes=axis) - tp*2.\n",
    "    \n",
    "    #beta = 1\n",
    "    #F_b = ((1+np.power(beta,2))*tp)/((1+np.power(beta,2))*tp + np.power(beta,2)*fn + fp)\n",
    "    IoU = (tp)/(tp + fn + fp)\n",
    "    \n",
    "    return IoU"
   ]
  },
  {
   "cell_type": "code",
   "execution_count": null,
   "metadata": {
    "collapsed": true
   },
   "outputs": [],
   "source": [
    "th = 0.5\n",
    "pred_labels = np.load('pred_labels.npy')\n",
    "pred_labels[(pred_labels>th)] = 1\n",
    "pred_labels[(pred_labels<th)] = 0\n",
    "\n",
    "acc_test_image = accuracy_IoU_np_individual(test_labels, pred_labels)\n",
    "print(acc_test_image[1,0,0,:])\n",
    "\n",
    "## Plot \n",
    "images = np.arange(num_images_test)\n",
    "f, a = plt.subplots(1, num_classes, figsize=(15, 4))\n",
    "for i in range(num_classes):\n",
    "    # Class i\n",
    "    a[i].plot(images,acc_test_image[:,0,0,i], 'o')\n",
    "    #a[i].xlabel('Test Images')\n",
    "    #a[i].ylabel(('Accuracy Class ' + str(i)))\n",
    "    #a[i].title('Accuracy for each Test Image')\n",
    "    f.show()\n",
    "    print(('Test Accuracy Class ' + str(i) + ': '), np.mean(acc_test_image[:,0,0,i]))\n",
    "f.savefig('Figures/Multiclass/c5_accuracy_images.png')"
   ]
  },
  {
   "cell_type": "markdown",
   "metadata": {},
   "source": [
    "*All Classes*"
   ]
  },
  {
   "cell_type": "code",
   "execution_count": null,
   "metadata": {
    "collapsed": true
   },
   "outputs": [],
   "source": [
    "images_bad_c = []\n",
    "\n",
    "for i in range(num_classes):\n",
    "    condition = acc_test_image[:,0,0,i]<0.1\n",
    "    images_bad_c = np.where(condition)[0]\n",
    "\n",
    "# Class 1\n",
    "condition = acc_test_image[:,0,0,1]<0.1\n",
    "images_bad_c1 = np.where(condition)[0]\n",
    "images_bad = np.where(condition)[0]\n",
    "print(images_bad_c1)\n",
    "\n",
    "# Class 2\n",
    "condition = acc_test_image[:,0,0,2]<0.5\n",
    "images_bad_c2 = np.where(condition)[0]\n",
    "print(images_bad_c2)\n",
    "images_bad = np.concatenate((images_bad, images_bad_c2))\n",
    "\n",
    "# Class 3\n",
    "condition = acc_test_image[:,0,0,3]<0.07\n",
    "images_bad_c3 = np.where(condition)[0]\n",
    "print(images_bad_c3)\n",
    "images_bad = np.concatenate((images_bad, images_bad_c3))\n",
    "\n",
    "# Class 4\n",
    "condition = acc_test_image[:,0,0,4]<0.1\n",
    "images_bad_c4 = np.where(condition)[0]\n",
    "print(images_bad_c4)\n",
    "images_bad = np.concatenate((images_bad, images_bad_c4))\n",
    "\n",
    "images_bad = np.unique(images_bad)\n",
    "print(images_bad)"
   ]
  },
  {
   "cell_type": "code",
   "execution_count": null,
   "metadata": {
    "collapsed": true
   },
   "outputs": [],
   "source": [
    "class_num = 1\n",
    "\n",
    "condition = acc_test_image[:,0,0,class_num] < 0.1\n",
    "images_bad_c = np.where(condition)[0]\n",
    "print(images_bad_c)"
   ]
  },
  {
   "cell_type": "markdown",
   "metadata": {},
   "source": [
    "*Over All Classes*"
   ]
  },
  {
   "cell_type": "code",
   "execution_count": null,
   "metadata": {
    "collapsed": true
   },
   "outputs": [],
   "source": [
    "# Images over all classes\n",
    "acc_test_image_mean = np.mean(acc_test_image,axis=3)\n",
    "condition = acc_test_image_mean[:,0,0]<0.4\n",
    "images_bad_classes = np.where(condition)[0]\n",
    "print(images_bad_classes)"
   ]
  },
  {
   "cell_type": "markdown",
   "metadata": {},
   "source": [
    "-----------"
   ]
  },
  {
   "cell_type": "markdown",
   "metadata": {},
   "source": [
    "#### Over all Images"
   ]
  },
  {
   "cell_type": "code",
   "execution_count": null,
   "metadata": {
    "collapsed": true
   },
   "outputs": [],
   "source": [
    "def accuracy_IoU_np(y_true, y_pred):\n",
    "    axis = np.array((2,1,0))\n",
    "    tp = np.apply_over_axes(np.sum,(y_true * y_pred), axes=axis)\n",
    "    fn = np.apply_over_axes(np.sum,((y_true + y_pred)*y_true), axes=axis) - tp*2.\n",
    "    fp = np.apply_over_axes(np.sum,((y_true + y_pred)*y_pred), axes=axis) - tp*2.\n",
    "    \n",
    "    #beta = 1\n",
    "    #F_b = ((1+np.power(beta,2))*tp)/((1+np.power(beta,2))*tp + np.power(beta,2)*fn + fp)\n",
    "    IoU = (tp)/(tp + fn + fp)\n",
    "    return IoU"
   ]
  },
  {
   "cell_type": "code",
   "execution_count": null,
   "metadata": {
    "collapsed": true
   },
   "outputs": [],
   "source": [
    "th = 0.5\n",
    "pred_labels = np.load('pred_labels.npy')\n",
    "pred_labels[(pred_labels>th)] = 1\n",
    "pred_labels[(pred_labels<th)] = 0\n",
    "\n",
    "acc_test = accuracy_IoU_np(test_labels,pred_labels)\n",
    "acc_test = acc_test[0,0,0,:]\n",
    "\n",
    "#print(acc_test)\n",
    "for i in range(num_classes):\n",
    "    print(('Test Accuracy Class ' + str(i) + ': '), acc_test[i])\n",
    "print('Test Accuracy Class Mean ', np.mean(acc_test))\n",
    "print('Test Accuracy Over all ', accuracy_IoU_np_all(imgs_mask_test,imgs_mask_pred))\n",
    "\n",
    "# PLot\n",
    "ind = np.arange(num_classes)  # the x locations for the groups\n",
    "width = 0.35       # the width of the bars\n",
    "\n",
    "fig, ax = plt.subplots()\n",
    "rects1 = ax.bar(ind, acc_test, width, color='r')\n",
    "\n",
    "# add some text for labels, title and axes ticks\n",
    "ax.set_ylabel('Accuracy [%]')\n",
    "ax.set_title('Accuracy by Class')\n",
    "ax.set_xticks(ind+width/2.)\n",
    "ax.set_xticklabels(('C0', 'C1', 'C2', 'C3', 'C4', 'C5', 'C6', 'C7'))\n",
    "plt.show()\n",
    "#fig.savefig('Figures/Multiclass/c5_accuracy_images_barchar.png')"
   ]
  },
  {
   "cell_type": "markdown",
   "metadata": {},
   "source": [
    "-----------"
   ]
  },
  {
   "cell_type": "markdown",
   "metadata": {},
   "source": [
    "-----------"
   ]
  },
  {
   "cell_type": "code",
   "execution_count": null,
   "metadata": {
    "collapsed": false
   },
   "outputs": [],
   "source": [
    "output_path = '/Users/acil-user/Documents/1 - Rafael Moreta/ProyectBWH/Results/'\n",
    "image_nrrd = sitk.ReadImage(output_path + 'pred_labels.nrrd')\n",
    "labels = sitk.GetArrayFromImage(image_nrrd)\n",
    "\n",
    "LabelToraxSlice = labels[0,:,:]\n",
    "plt.figure()\n",
    "plt.imshow(LabelToraxSlice)\n",
    "plt.colorbar()\n",
    "plt.show()\n",
    "print(np.unique(LabelToraxSlice))"
   ]
  },
  {
   "cell_type": "code",
   "execution_count": null,
   "metadata": {
    "collapsed": true
   },
   "outputs": [],
   "source": []
  }
 ],
 "metadata": {
  "kernelspec": {
   "display_name": "Python 2",
   "language": "python",
   "name": "python2"
  },
  "language_info": {
   "codemirror_mode": {
    "name": "ipython",
    "version": 2
   },
   "file_extension": ".py",
   "mimetype": "text/x-python",
   "name": "python",
   "nbconvert_exporter": "python",
   "pygments_lexer": "ipython2",
   "version": "2.7.13"
  }
 },
 "nbformat": 4,
 "nbformat_minor": 0
}
