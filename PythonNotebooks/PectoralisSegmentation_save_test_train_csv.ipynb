{
 "cells": [
  {
   "cell_type": "code",
   "execution_count": 1,
   "metadata": {
    "collapsed": true
   },
   "outputs": [],
   "source": [
    "import numpy as np\n",
    "import matplotlib.pyplot as plt\n",
    "import SimpleITK as sitk\n",
    "%matplotlib inline\n",
    "import csv"
   ]
  },
  {
   "cell_type": "code",
   "execution_count": 120,
   "metadata": {},
   "outputs": [],
   "source": [
    "path_csv = 'F:/Rafael/GoogleDrive/IGT/Projects/DL_PectoralisSegmentation_casi_old/Data/pectoralis_copd_slices_clean.csv'\n",
    "csvfile = open(path_csv,'rU')\n",
    "spamreader = csv.reader(csvfile,dialect=csv.excel_tab, delimiter = ',')\n",
    "\n",
    "list_bad_segm = list()\n",
    "csv_values = list()\n",
    "names = spamreader.next()\n",
    "\n",
    "for row in spamreader:\n",
    "    aux = row\n",
    "    csv_values.append(aux)\n",
    "    wrong = row[5]\n",
    "    list_bad_segm.append(int(wrong))\n",
    "csvfile.close()\n",
    "list_bad_segm = np.array(list_bad_segm)"
   ]
  },
  {
   "cell_type": "code",
   "execution_count": 116,
   "metadata": {},
   "outputs": [],
   "source": [
    "index_right = np.where(list_bad_segm==0)\n",
    "index_wrong = np.where(list_bad_segm==1)\n",
    "\n",
    "## Crear lista con los train\n",
    "num_container = [0,1,2]\n",
    "PectoralisSegmentation_Train = np.zeros((len(csv_values)), dtype='int16')\n",
    "train_init = num_container[0]*1500\n",
    "\n",
    "num_train_images = 3000\n",
    "\n",
    "id_init_right = np.where(index_right[0]==train_init)\n",
    "id_init_right = id_init_right[0][0]\n",
    "train_indexes = index_right[0][id_init_right:id_init_right+num_train_images]\n",
    "\n",
    "PectoralisSegmentation_Train[train_indexes] = int(1)\n",
    "\n",
    "\n",
    "## Crear lista con los test\n",
    "num_container = [3,4,5]\n",
    "PectoralisSegmentation_Test = np.zeros((len(csv_values)), dtype='int16')\n",
    "test_init = num_container[0]*1500\n",
    "\n",
    "num_test_images = 3000\n",
    "\n",
    "id_init_right = np.where(index_right[0]==test_init)\n",
    "id_init_right = id_init_right[0][0]\n",
    "test_indexes = index_right[0][id_init_right:id_init_right+num_test_images]\n",
    "\n",
    "PectoralisSegmentation_Test[test_indexes] = int(1)\n"
   ]
  },
  {
   "cell_type": "code",
   "execution_count": 121,
   "metadata": {},
   "outputs": [],
   "source": [
    "path_csv = 'F:/Rafael/GoogleDrive/IGT/Projects/DL_PectoralisSegmentation_casi_old/Data/pectoralis_copd_slices_clean.csv'\n",
    "path_new_csv = 'F:/Rafael/GoogleDrive/IGT/Projects/DL_PectoralisSegmentation_casi_old/Data/pectoralis_copd_slices_clean_test.csv'\n",
    "\n",
    "new_csv_values = csv_values[0:-1]\n",
    "names.append('PectoralisSegmentation_Test')\n",
    "names.append('PectoralisSegmentation_Train')\n",
    "with open(path_new_csv, 'wb') as csvfile:\n",
    "    spamwriter = csv.writer(csvfile, dialect=csv.excel_tab, delimiter = ';')\n",
    "\n",
    "    header0 = names\n",
    "    spamwriter.writerow(header0)\n",
    "\n",
    "    for i in range(len(new_csv_values)):\n",
    "        new_csv_values[i].append(str(PectoralisSegmentation_Test[i]))\n",
    "        new_csv_values[i].append(str(PectoralisSegmentation_Train[i]))\n",
    "        row = new_csv_values[i]\n",
    "        spamwriter.writerow(row)"
   ]
  },
  {
   "cell_type": "code",
   "execution_count": null,
   "metadata": {
    "collapsed": true
   },
   "outputs": [],
   "source": []
  },
  {
   "cell_type": "markdown",
   "metadata": {},
   "source": [
    "## transform in classes"
   ]
  },
  {
   "cell_type": "code",
   "execution_count": 2,
   "metadata": {
    "collapsed": true
   },
   "outputs": [],
   "source": [
    "path_results = 'F:/Rafael/GoogleDrive/IGT/Projects/DL_PectoralisSegmentation_casi_old/Research/PlosOne_paper/Results/Results_DC_A_meanHU/'"
   ]
  },
  {
   "cell_type": "code",
   "execution_count": null,
   "metadata": {
    "collapsed": true
   },
   "outputs": [],
   "source": [
    "area_diff\n",
    "dice_coeff_individual\n",
    "meanHU_diff"
   ]
  },
  {
   "cell_type": "code",
   "execution_count": 16,
   "metadata": {},
   "outputs": [],
   "source": [
    "\n",
    "reduced = '_reduced_80.0'\n",
    "results_name = 'dice_individual'+ reduced\n",
    "file_name = results_name + '.npy'\n",
    "results_data = np.load(path_results + file_name)\n",
    "path_results_data_csv = path_results + results_name + '.csv'\n",
    "\n",
    "num_slices = results_data.shape[0]\n",
    "num_classes = results_data.shape[1]\n",
    "with open(path_results_data_csv, 'wb') as csvfile:\n",
    "    spamwriter = csv.writer(csvfile, dialect=csv.excel_tab, delimiter = ',')\n",
    "\n",
    "    header0 = ['class', results_name]\n",
    "    spamwriter.writerow(header0)\n",
    "\n",
    "    for i in range(num_slices):\n",
    "        for j in range(num_classes):\n",
    "            row = [j, results_data[i,j]]\n",
    "            spamwriter.writerow(row)"
   ]
  },
  {
   "cell_type": "code",
   "execution_count": null,
   "metadata": {
    "collapsed": true
   },
   "outputs": [],
   "source": [
    "dice_individual_reduced_74.0"
   ]
  },
  {
   "cell_type": "code",
   "execution_count": 6,
   "metadata": {
    "collapsed": true
   },
   "outputs": [],
   "source": [
    "reduced = str()\n",
    "file_name = 'dice_coeff_individual' + reduced + '.npy'"
   ]
  },
  {
   "cell_type": "code",
   "execution_count": 7,
   "metadata": {},
   "outputs": [
    {
     "data": {
      "text/plain": [
       "'dice_coeff_individual.npy'"
      ]
     },
     "execution_count": 7,
     "metadata": {},
     "output_type": "execute_result"
    }
   ],
   "source": [
    "file_name"
   ]
  },
  {
   "cell_type": "code",
   "execution_count": null,
   "metadata": {
    "collapsed": true
   },
   "outputs": [],
   "source": []
  }
 ],
 "metadata": {
  "kernelspec": {
   "display_name": "Python 3",
   "language": "python",
   "name": "python3"
  },
  "language_info": {
   "codemirror_mode": {
    "name": "ipython",
    "version": 3
   },
   "file_extension": ".py",
   "mimetype": "text/x-python",
   "name": "python",
   "nbconvert_exporter": "python",
   "pygments_lexer": "ipython3",
   "version": "3.6.7"
  }
 },
 "nbformat": 4,
 "nbformat_minor": 1
}
