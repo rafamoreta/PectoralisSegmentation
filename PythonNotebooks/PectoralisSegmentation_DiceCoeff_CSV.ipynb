{
 "cells": [
  {
   "cell_type": "code",
   "execution_count": 3,
   "metadata": {
    "collapsed": true
   },
   "outputs": [],
   "source": [
    "import numpy as np\n",
    "import matplotlib.pyplot as plt\n",
    "import SimpleITK as sitk\n",
    "%matplotlib inline\n",
    "import csv\n",
    "import itertools\n",
    "import scipy.stats"
   ]
  },
  {
   "cell_type": "code",
   "execution_count": null,
   "metadata": {
    "collapsed": true
   },
   "outputs": [],
   "source": []
  },
  {
   "cell_type": "code",
   "execution_count": null,
   "metadata": {
    "collapsed": true
   },
   "outputs": [],
   "source": []
  },
  {
   "cell_type": "code",
   "execution_count": null,
   "metadata": {
    "collapsed": true
   },
   "outputs": [],
   "source": [
    "PlosOne_paper\\Results\\Segmentation_analysis\\Results_DC_A_meanHU"
   ]
  },
  {
   "cell_type": "markdown",
   "metadata": {},
   "source": [
    "** Read CSV with dice coefficients **"
   ]
  },
  {
   "cell_type": "code",
   "execution_count": 158,
   "metadata": {
    "collapsed": true
   },
   "outputs": [],
   "source": [
    "path_csv = 'F:/Rafael/GoogleDrive/IGT/Projects/DL_PectoralisSegmentation_casi_old/PectoralisSegmentation_Dice_test_2.csv'\n",
    "csvfile = open(path_csv,'rU')\n",
    "spamreader = csv.reader(csvfile,dialect=csv.excel_tab, delimiter = ',')\n",
    "\n",
    "list_bad_segm = list()\n",
    "csv_values = list()\n",
    "names = spamreader.next()\n",
    "\n",
    "for row in spamreader:\n",
    "    aux = row\n",
    "    csv_values.append(aux)\n",
    "csvfile.close()"
   ]
  },
  {
   "cell_type": "code",
   "execution_count": 197,
   "metadata": {},
   "outputs": [],
   "source": [
    "path_csv = 'F:/Rafael/GoogleDrive/IGT/Projects/DL_PectoralisSegmentation_casi_old/Research/PlosOne_paper/Results/Segmentation_analysis/Results_DC_A_meanHU/dice_individual_reduced_80.0.csv'\n",
    "csvfile = open(path_csv,'rU')\n",
    "spamreader = csv.reader(csvfile,dialect=csv.excel_tab, delimiter = ',')\n",
    "\n",
    "list_bad_segm = list()\n",
    "csv_values = list()\n",
    "names = spamreader.next()\n",
    "\n",
    "for row in spamreader:\n",
    "    aux = row\n",
    "    csv_values.append(aux)\n",
    "csvfile.close()"
   ]
  },
  {
   "cell_type": "code",
   "execution_count": 161,
   "metadata": {
    "collapsed": true
   },
   "outputs": [],
   "source": [
    "p_value_all_all = list()"
   ]
  },
  {
   "cell_type": "markdown",
   "metadata": {},
   "source": [
    "** DIce Coefficients From string to numpy array **"
   ]
  },
  {
   "cell_type": "code",
   "execution_count": 198,
   "metadata": {
    "collapsed": true
   },
   "outputs": [],
   "source": [
    "dice_coeff = []\n",
    "for i in range(len(csv_values)):\n",
    "    row = []\n",
    "    for j in range(len(csv_values[i])):\n",
    "        row.append(float(csv_values[i][j]))\n",
    "        \n",
    "    dice_coeff.append(row)\n",
    "dice_coeff = np.array(dice_coeff)"
   ]
  },
  {
   "cell_type": "code",
   "execution_count": 199,
   "metadata": {},
   "outputs": [],
   "source": [
    "dice_coeff = dice_coeff[:,1]\n",
    "new_shape = dice_coeff.shape[0]/6\n",
    "dice_coeff = dice_coeff.reshape((new_shape,6))"
   ]
  },
  {
   "cell_type": "code",
   "execution_count": 200,
   "metadata": {},
   "outputs": [
    {
     "data": {
      "text/plain": [
       "array([[ 0.95296   ,  0.97119893,  0.95816146,  0.9783105 ,  0.97884468,\n",
       "         0.96097097],\n",
       "       [ 0.84648087,  0.91554054,  0.91322145,  0.92618712,  0.965138  ,\n",
       "         0.8828171 ],\n",
       "       [ 0.96027242,  0.97538696,  0.92809323,  0.97025538,  0.97892734,\n",
       "         0.95990209],\n",
       "       ..., \n",
       "       [ 0.94186533,  0.94333844,  0.94976427,  0.96484435,  0.97195829,\n",
       "         0.96690192],\n",
       "       [ 0.84215129,  0.82503696,  0.92325903,  0.94388594,  0.94553473,\n",
       "         0.89089912],\n",
       "       [ 0.90963257,  0.92883212,  0.91356578,  0.94087568,  0.97030013,\n",
       "         0.9373494 ]])"
      ]
     },
     "execution_count": 200,
     "metadata": {},
     "output_type": "execute_result"
    }
   ],
   "source": [
    "dice_coeff"
   ]
  },
  {
   "cell_type": "code",
   "execution_count": 205,
   "metadata": {},
   "outputs": [],
   "source": [
    "dice_coeff = dice_coeff.round(2)"
   ]
  },
  {
   "cell_type": "markdown",
   "metadata": {},
   "source": [
    "** Calculations of Differences between classes **"
   ]
  },
  {
   "cell_type": "code",
   "execution_count": 201,
   "metadata": {},
   "outputs": [],
   "source": [
    "names = ['left_minor_pec',\n",
    " 'right_minor_pec',\n",
    " 'left_major_pec',\n",
    " 'right_majot_pec',\n",
    " 'left_fat',\n",
    " 'right_fat']"
   ]
  },
  {
   "cell_type": "code",
   "execution_count": 221,
   "metadata": {},
   "outputs": [
    {
     "name": "stdout",
     "output_type": "stream",
     "text": [
      "left_minor_pec-right_minor_pec\n",
      "left_minor_pec-left_major_pec\n",
      "left_minor_pec-right_majot_pec\n",
      "left_minor_pec-left_fat\n",
      "left_minor_pec-right_fat\n",
      "right_minor_pec-left_major_pec\n",
      "right_minor_pec-right_majot_pec\n",
      "right_minor_pec-left_fat\n",
      "right_minor_pec-right_fat\n",
      "left_major_pec-right_majot_pec\n",
      "left_major_pec-left_fat\n",
      "left_major_pec-right_fat\n",
      "right_majot_pec-left_fat\n",
      "right_majot_pec-right_fat\n",
      "left_fat-right_fat\n"
     ]
    }
   ],
   "source": [
    "pair_comb = list(itertools.combinations(range(6),2))\n",
    "\n",
    "dice_ceff_diff = np.empty((dice_coeff.shape[0], len(pair_comb)))\n",
    "names_diff = []\n",
    "\n",
    "for i, pair in enumerate(pair_comb):\n",
    "    dice_ceff_diff[:,i] = dice_coeff[:,pair[0]] - dice_coeff[:,pair[1]] \n",
    "    names_diff.append(names[pair[0]] + '-' + names[pair[1]])\n",
    "    print names_diff[i]"
   ]
  },
  {
   "cell_type": "markdown",
   "metadata": {},
   "source": [
    "** STatistical Analysis **"
   ]
  },
  {
   "cell_type": "code",
   "execution_count": 207,
   "metadata": {},
   "outputs": [
    {
     "name": "stdout",
     "output_type": "stream",
     "text": [
      "p-value:\n",
      "left_minor_pec - right_minor_pec =\t0.0066591338961\n",
      "left_minor_pec - left_major_pec =\t3.83995590126e-72\n",
      "left_minor_pec - right_majot_pec =\t2.59134076262e-140\n",
      "left_minor_pec - left_fat =\t5.14451975478e-219\n",
      "left_minor_pec - right_fat =\t9.60228118247e-135\n",
      "right_minor_pec - left_major_pec =\t1.94068321107e-59\n",
      "right_minor_pec - right_majot_pec =\t2.72068426602e-158\n",
      "right_minor_pec - left_fat =\t4.19810654821e-226\n",
      "right_minor_pec - right_fat =\t6.42416495955e-149\n",
      "left_major_pec - right_majot_pec =\t1.76192363823e-71\n",
      "left_major_pec - left_fat =\t5.76667150853e-123\n",
      "left_major_pec - right_fat =\t7.64520549151e-45\n",
      "right_majot_pec - left_fat =\t5.76452584147e-43\n",
      "right_majot_pec - right_fat =\t0.0408419490625\n",
      "left_fat - right_fat =\t3.40774297352e-79\n"
     ]
    }
   ],
   "source": [
    "p_value_all = np.empty(len(pair_comb))\n",
    "\n",
    "print 'p-value:'\n",
    "for i, pair in enumerate(pair_comb):\n",
    "    a, p_value_all[i] = scipy.stats.wilcoxon(dice_ceff_diff[:,i])\n",
    "    print names[pair[0]], '-', names[pair[1]], '=\\t', p_value_all[i]"
   ]
  },
  {
   "cell_type": "code",
   "execution_count": 208,
   "metadata": {},
   "outputs": [],
   "source": [
    "p_value_all_all.append(p_value_all)"
   ]
  },
  {
   "cell_type": "code",
   "execution_count": 188,
   "metadata": {},
   "outputs": [
    {
     "data": {
      "text/plain": [
       "array([  7.31723450e-004,   3.29669471e-095,   3.43756881e-162,\n",
       "         7.40264890e-244,   4.52786998e-157,   3.90515480e-072,\n",
       "         1.38169798e-181,   6.88571566e-247,   1.20311398e-168,\n",
       "         5.69840085e-072,   6.90700717e-133,   1.65884597e-050,\n",
       "         9.04213721e-049,   8.15138681e-004,   6.06477239e-084])"
      ]
     },
     "execution_count": 188,
     "metadata": {},
     "output_type": "execute_result"
    }
   ],
   "source": [
    "p_value_all_all[3]"
   ]
  },
  {
   "cell_type": "code",
   "execution_count": 209,
   "metadata": {
    "collapsed": true
   },
   "outputs": [],
   "source": [
    "p_value_all_names = ['all', 'all_rounded', '74', '74_rounded', '80', '80_rounded']"
   ]
  },
  {
   "cell_type": "code",
   "execution_count": 121,
   "metadata": {},
   "outputs": [
    {
     "name": "stdout",
     "output_type": "stream",
     "text": [
      "p-value:\n",
      "left_minor_pec - right_minor_pec =\t0.128842043613\n",
      "left_minor_pec - left_major_pec =\t6.68546505314e-52\n",
      "left_minor_pec - right_majot_pec =\t2.34947277019e-107\n",
      "left_minor_pec - left_fat =\t3.52800072832e-155\n",
      "left_minor_pec - right_fat =\t3.6564748218e-86\n",
      "right_minor_pec - left_major_pec =\t3.67173768094e-45\n",
      "right_minor_pec - right_majot_pec =\t3.75497181233e-101\n",
      "right_minor_pec - left_fat =\t6.35428848746e-150\n",
      "right_minor_pec - right_fat =\t2.4403044653e-79\n",
      "left_major_pec - right_majot_pec =\t1.23857160574e-23\n",
      "left_major_pec - left_fat =\t1.43142187455e-64\n",
      "left_major_pec - right_fat =\t2.65202678403e-15\n",
      "right_majot_pec - left_fat =\t2.42908530874e-16\n",
      "right_majot_pec - right_fat =\t0.656206942336\n",
      "left_fat - right_fat =\t8.33698475271e-14\n"
     ]
    }
   ],
   "source": [
    "p_value_all = np.empty(len(pair_comb))\n",
    "\n",
    "print 'p-value:'\n",
    "for i, pair in enumerate(pair_comb):\n",
    "    a, p_value_all[i] = scipy.stats.ttest_ind(dice_coeff[:,pair[0]],dice_coeff[:,pair[1]],equal_var=False)\n",
    "    print names[pair[0]], '-', names[pair[1]], '=\\t', p_value_all[i]"
   ]
  },
  {
   "cell_type": "code",
   "execution_count": null,
   "metadata": {
    "collapsed": true
   },
   "outputs": [],
   "source": []
  },
  {
   "cell_type": "markdown",
   "metadata": {},
   "source": [
    "## To csv"
   ]
  },
  {
   "cell_type": "markdown",
   "metadata": {},
   "source": [
    "** Coefficients to CSV **"
   ]
  },
  {
   "cell_type": "code",
   "execution_count": 108,
   "metadata": {},
   "outputs": [],
   "source": [
    "path_new_csv = 'F:/Rafael/GoogleDrive/IGT/Projects/DL_PectoralisSegmentation_casi_old/PectoralisSegmentation_Dice_test_pair.csv'\n",
    "\n",
    "save_diff = 1\n",
    "\n",
    "if save_diff:\n",
    "    new_csv_values = np.concatenate((dice_coeff, dice_ceff_diff), axis=1)\n",
    "    header0 = names[:]\n",
    "    header0.extend(names_diff)\n",
    "else:\n",
    "    new_csv_values = np.copy(dice_coeff)\n",
    "    header0 = np.copy(names)\n",
    "\n",
    "with open(path_new_csv, 'wb') as csvfile:\n",
    "    spamwriter = csv.writer(csvfile, dialect=csv.excel_tab, delimiter = ',')\n",
    "    \n",
    "    spamwriter.writerow(header0)\n",
    "\n",
    "    for i in range(len(new_csv_values)):\n",
    "        row = []\n",
    "        for j in range(len(new_csv_values[i])):\n",
    "            row.append(float(new_csv_values[i][j]))\n",
    "        \n",
    "        spamwriter.writerow(row)"
   ]
  },
  {
   "cell_type": "code",
   "execution_count": null,
   "metadata": {
    "collapsed": true
   },
   "outputs": [],
   "source": []
  },
  {
   "cell_type": "markdown",
   "metadata": {},
   "source": [
    "** Save p-values all all **"
   ]
  },
  {
   "cell_type": "code",
   "execution_count": 210,
   "metadata": {
    "collapsed": true
   },
   "outputs": [],
   "source": [
    "all_p_values = np.array(p_value_all_all)"
   ]
  },
  {
   "cell_type": "code",
   "execution_count": 222,
   "metadata": {},
   "outputs": [],
   "source": [
    "path_new_csv = 'F:/Rafael/GoogleDrive/IGT/Projects/DL_PectoralisSegmentation_casi_old/PectoralisSegmentation_Dice_wilcoxon_pvalues_all.csv'\n",
    "\n",
    "p_value_all_names = ['difference', 'all', 'all_rounded', '74', '74_rounded', '80', '80_rounded']\n",
    "header0 = p_value_all_names[:]\n",
    "column0 = names_diff[:]\n",
    "values = np.copy(all_p_values)\n",
    "\n",
    "with open(path_new_csv, 'wb') as csvfile:\n",
    "    spamwriter = csv.writer(csvfile, dialect=csv.excel_tab, delimiter = ';')\n",
    "    \n",
    "    spamwriter.writerow(header0)\n",
    "\n",
    "    for i in range(len(names_diff)):\n",
    "        row = [column0[i]]\n",
    "        row.extend(list(values[:,i]))\n",
    "        \n",
    "        spamwriter.writerow(row)"
   ]
  },
  {
   "cell_type": "code",
   "execution_count": null,
   "metadata": {
    "collapsed": true
   },
   "outputs": [],
   "source": []
  },
  {
   "cell_type": "code",
   "execution_count": null,
   "metadata": {
    "collapsed": true
   },
   "outputs": [],
   "source": []
  },
  {
   "cell_type": "markdown",
   "metadata": {},
   "source": [
    "--------------------"
   ]
  },
  {
   "cell_type": "markdown",
   "metadata": {},
   "source": [
    "** To csv mean , median, iqr, outlayers **"
   ]
  },
  {
   "cell_type": "code",
   "execution_count": 152,
   "metadata": {},
   "outputs": [],
   "source": [
    "DC_median = np.median(dice_coeff, axis=(0))\n",
    "DC_iqr = scipy.stats.iqr(dice_coeff, axis=0)\n",
    "DC_mean = np.mean(dice_coeff, axis=(0))\n"
   ]
  },
  {
   "cell_type": "code",
   "execution_count": 153,
   "metadata": {},
   "outputs": [
    {
     "data": {
      "image/png": "[encoded data removed]",
      "text/plain": [
       "<matplotlib.figure.Figure at 0xc7ec9b0>"
      ]
     },
     "metadata": {},
     "output_type": "display_data"
    }
   ],
   "source": [
    "f, a = plt.subplots(1, 1, figsize=(10, 7))\n",
    "meanlineprops = dict(linestyle='--', linewidth=1, color='purple')\n",
    "r = a.boxplot(dice_coeff, meanprops=meanlineprops, meanline=True,\n",
    "                   showmeans=True)\n",
    "\n",
    "dice_coeff_mean_all = np.mean(dice_coeff,axis=0)\n",
    "num_outlayers = list()\n",
    "for i in range(6):\n",
    "    num_outlayers.append(len(r[\"fliers\"][i].get_data()[1])*100./dice_coeff.shape[0])\n",
    "    \n",
    "xticklabels_ = ('Left Minor Pec', 'Right Minor Pec', 'Left Major Pec', 'Right Major Pec', 'Left Fat', 'Right Fat')\n",
    "xticklabels = list()\n",
    "for i in range(6):\n",
    "    xticklabels.append(xticklabels_[i] + '\\n\\n' + str(dice_coeff_mean_all[i])[0:6] + '\\n\\n' + str(num_outlayers[i])[0:6])\n",
    "xticklabels = tuple(xticklabels)\n",
    "\n",
    "\n",
    "\n",
    "a.set_xticklabels(xticklabels)\n",
    "plt.title('Evaluation Results by Class - IoU = ' + str(np.mean(dice_coeff_mean_all)) + ' - num_outl = ' + str(np.mean(num_outlayers)))\n",
    "plt.tight_layout()\n",
    "path_pectoralis = 'F:/Rafael/GoogleDrive/IGT/Projects/DL_PectoralisSegmentation_casi_old/'\n",
    "plt.savefig(path_pectoralis + \"fig_1_allData_80.png\", bbox_inches='tight')\n",
    "plt.show()"
   ]
  },
  {
   "cell_type": "code",
   "execution_count": 154,
   "metadata": {},
   "outputs": [],
   "source": [
    "DC_outlayers = np.copy(num_outlayers)"
   ]
  },
  {
   "cell_type": "code",
   "execution_count": 69,
   "metadata": {},
   "outputs": [],
   "source": [
    "## Saving median and iqr\n",
    "\n",
    "path_new_csv = 'F:/Rafael/GoogleDrive/IGT/Projects/DL_PectoralisSegmentation_casi_old/DC_median_iqr.csv\n",
    "\n",
    "header0 = ['', 'median', 'iqr']\n",
    "\n",
    "with open(path_new_csv, 'wb') as csvfile:\n",
    "    spamwriter = csv.writer(csvfile, dialect=csv.excel_tab, delimiter = ';')\n",
    "    \n",
    "    spamwriter.writerow(header0)\n",
    "\n",
    "    for i in range(len(names)):\n",
    "        row = [names[i], DC_median[i], DC_iqr[i]]      \n",
    "        \n",
    "        spamwriter.writerow(row)"
   ]
  },
  {
   "cell_type": "code",
   "execution_count": 156,
   "metadata": {},
   "outputs": [],
   "source": [
    "## Saving mean, median, iqr and percetange of outlayers\n",
    "\n",
    "path_new_csv = 'F:/Rafael/GoogleDrive/IGT/Projects/DL_PectoralisSegmentation_casi_old/DC_mean_median_iqr_outlayers_80.csv'\n",
    "\n",
    "header0 = ['']\n",
    "header0.extend(names[:])\n",
    "header0.extend(['mean'])\n",
    "column_0 = ['mean', 'median', 'iqr', 'outlayers']\n",
    "values = [DC_mean, DC_median, DC_iqr, DC_outlayers]\n",
    "\n",
    "with open(path_new_csv, 'wb') as csvfile:\n",
    "    spamwriter = csv.writer(csvfile, dialect=csv.excel_tab, delimiter = ';')\n",
    "    \n",
    "    spamwriter.writerow(header0)\n",
    "\n",
    "    for i in range(len(column_0)):\n",
    "        row = [column_0[i]]\n",
    "        values[i] = values[i].round(4)\n",
    "        row.extend(list(values[i]))\n",
    "        row.extend([np.mean(values[i])])\n",
    "        \n",
    "        spamwriter.writerow(row)"
   ]
  },
  {
   "cell_type": "code",
   "execution_count": null,
   "metadata": {
    "collapsed": true
   },
   "outputs": [],
   "source": []
  },
  {
   "cell_type": "code",
   "execution_count": null,
   "metadata": {
    "collapsed": true
   },
   "outputs": [],
   "source": []
  },
  {
   "cell_type": "markdown",
   "metadata": {},
   "source": [
    "--------------"
   ]
  },
  {
   "cell_type": "markdown",
   "metadata": {},
   "source": [
    "## calculation of all p-values"
   ]
  },
  {
   "cell_type": "code",
   "execution_count": null,
   "metadata": {
    "collapsed": true
   },
   "outputs": [],
   "source": []
  },
  {
   "cell_type": "code",
   "execution_count": null,
   "metadata": {
    "collapsed": true
   },
   "outputs": [],
   "source": []
  },
  {
   "cell_type": "code",
   "execution_count": null,
   "metadata": {
    "collapsed": true
   },
   "outputs": [],
   "source": []
  }
 ],
 "metadata": {
  "kernelspec": {
   "display_name": "Python 3",
   "language": "python",
   "name": "python3"
  },
  "language_info": {
   "codemirror_mode": {
    "name": "ipython",
    "version": 3
   },
   "file_extension": ".py",
   "mimetype": "text/x-python",
   "name": "python",
   "nbconvert_exporter": "python",
   "pygments_lexer": "ipython3",
   "version": "3.6.7"
  }
 },
 "nbformat": 4,
 "nbformat_minor": 1
}
